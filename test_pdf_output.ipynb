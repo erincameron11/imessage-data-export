{
 "cells": [
  {
   "cell_type": "markdown",
   "metadata": {},
   "source": [
    "# Testing PDF Output Functionality\n",
    "\n",
    "Docs: http://www.fpdf.org/en/doc/"
   ]
  },
  {
   "cell_type": "code",
   "execution_count": 5,
   "metadata": {},
   "outputs": [],
   "source": [
    "from fpdf import FPDF"
   ]
  },
  {
   "cell_type": "code",
   "execution_count": 47,
   "metadata": {},
   "outputs": [
    {
     "data": {
      "text/plain": [
       "''"
      ]
     },
     "execution_count": 47,
     "metadata": {},
     "output_type": "execute_result"
    }
   ],
   "source": [
    "# TESTING iMESSAGE OUTPUT\n",
    "class ChatPDF(FPDF):\n",
    "    def chat_bubble(self, x, y, w, h, text, fill_color, text_color, align='R'):    \n",
    "        self.set_fill_color(*fill_color)\n",
    "        self.set_draw_color(*fill_color)  # Set draw color to the fill color to hide borders\n",
    "        self.set_text_color(*text_color)\n",
    "        self.set_xy(x, y)\n",
    "        \n",
    "        # Draw rounded rectangle\n",
    "        r = 4  # Radius for corners\n",
    "        self.rounded_rect(x, y, w, h, r, fill=True)\n",
    "        \n",
    "        # Add text inside bubble\n",
    "        self.set_xy(x + 4, y + 3)\n",
    "        self.multi_cell(w - 8, self.font_size + 2, text, border=0, align=align)\n",
    "        \n",
    "    def rounded_rect(self, x, y, w, h, r, fill=False):\n",
    "        # Draw the edges and fill\n",
    "        self.rect(x + r, y, w - 2 * r, h, 'F')  # Top and Bottom\n",
    "        self.rect(x, y + r, w, h - 2 * r, 'F')  # Middle\n",
    "        \n",
    "        # Draw the four arcs\n",
    "        self.ellipse(x, y, 2 * r, 2 * r, 'F')  # Top-left\n",
    "        self.ellipse(x + w - 2 * r, y, 2 * r, 2 * r, 'F')  # Top-right\n",
    "        self.ellipse(x, y + h - 2 * r, 2 * r, 2 * r, 'F')  # Bottom-left\n",
    "        self.ellipse(x + w - 2 * r, y + h - 2 * r, 2 * r, 2 * r, 'F')  # Bottom-right\n",
    "\n",
    "    def add_sender_name(self, x, y, sender, align):\n",
    "        self.set_font(\"Arial\", size=10)\n",
    "        self.set_text_color(105, 105, 105)  # Dark grey color\n",
    "        self.set_xy(x, y)\n",
    "        self.cell(0, 10, sender, 0, 0, align)\n",
    "        \n",
    "# Create instance of ChatPDF class\n",
    "pdf = ChatPDF()\n",
    "\n",
    "# Add a page\n",
    "pdf.add_page()\n",
    "\n",
    "# Set font\n",
    "pdf.set_font(\"Arial\", size = 12)\n",
    "\n",
    "# Read in all messages\n",
    "messages = [\n",
    "    (\"ME\", \"Hi\"),\n",
    "    (\"CONTACT2\", \"Hello\"),\n",
    "    (\"ME\", \"How are you?\"),\n",
    "    (\"CONTACT2\", \"Great! Chatting with ChatGPT! Great! Chatting with ChatGPT! Great! Chatting with ChatGPT! Great! Chatting with ChatGPT! Great! Chatting with ChatGPT! Great! Chatting with ChatGPT! Great! Chatting with ChatGPT! Great! Chatting with ChatGPT!\"),\n",
    "    (\"ME\", \"Wow! I should do that too!\")\n",
    "]\n",
    "\n",
    "# Define some constants for layout\n",
    "line_height = pdf.font_size * 2.5\n",
    "margin = 10\n",
    "bubble_padding = 4\n",
    "bubble_inner_padding = 2\n",
    "sender_name_height = 6\n",
    "\n",
    "# Colors\n",
    "me_color = (0, 122, 255)  # iMessage blue\n",
    "contact2_color = (229, 229, 234)  # iMessage grey\n",
    "text_color = (0, 0, 0)\n",
    "\n",
    "# Write a title to the pdf document\n",
    "pdf.cell(200, 10, txt = \"PDF Output\", ln = True, align = 'C')\n",
    "\n",
    "# Loop through each message\n",
    "for sender, message in messages:\n",
    "    text_width = pdf.get_string_width(message) + 2 * bubble_inner_padding\n",
    "    text_height = line_height\n",
    "    if sender == \"ME\":\n",
    "        x = pdf.w - margin - text_width - 2 * bubble_padding\n",
    "        fill_color = me_color\n",
    "        align = 'R'  # Right align within the bubble\n",
    "    else:\n",
    "        x = margin\n",
    "        fill_color = contact2_color\n",
    "        align = 'L'  # Left align within the bubble\n",
    "    y = pdf.get_y()\n",
    "    \n",
    "    # Add the sender name above the chat bubbles\n",
    "    pdf.add_sender_name(x, y, sender, align)\n",
    "    \n",
    "    # Move down a bit to draw the chat bubble below the sender name\n",
    "    y += sender_name_height + 2  # Adding a small gap between the sender name and the bubble\n",
    "    \n",
    "    # Draw the bubble\n",
    "    pdf.chat_bubble(x, y, text_width + 2 * bubble_padding, text_height, message, fill_color, text_color, align)\n",
    "    \n",
    "    # Move to next line\n",
    "    pdf.ln(text_height + bubble_padding + sender_name_height)\n",
    "\n",
    "# Save the pdf with the filename convention: <filename>.pdf\n",
    "pdf.output(\"imessage_chat_output4.pdf\")"
   ]
  },
  {
   "cell_type": "code",
   "execution_count": 37,
   "metadata": {},
   "outputs": [
    {
     "data": {
      "text/plain": [
       "''"
      ]
     },
     "execution_count": 37,
     "metadata": {},
     "output_type": "execute_result"
    }
   ],
   "source": []
  },
  {
   "cell_type": "code",
   "execution_count": null,
   "metadata": {},
   "outputs": [],
   "source": []
  }
 ],
 "metadata": {
  "kernelspec": {
   "display_name": "Python 3",
   "language": "python",
   "name": "python3"
  },
  "language_info": {
   "codemirror_mode": {
    "name": "ipython",
    "version": 3
   },
   "file_extension": ".py",
   "mimetype": "text/x-python",
   "name": "python",
   "nbconvert_exporter": "python",
   "pygments_lexer": "ipython3",
   "version": "3.9.1"
  }
 },
 "nbformat": 4,
 "nbformat_minor": 4
}
